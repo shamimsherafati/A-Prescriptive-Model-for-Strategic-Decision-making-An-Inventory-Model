{
 "cells": [
  {
   "cell_type": "markdown",
   "id": "93f0166e",
   "metadata": {},
   "source": [
    "# A Prescriptive Model for Strategic Decision-making: An Inventory Model\n",
    "\n",
    "### ALY6050_Module 4 Project\n",
    "\n",
    "\n",
    ".\n",
    "### Shamim Sherafati\n",
    "### Instructor: Soheil Parsa\n",
    "\n",
    "NUID: 002742363     |    Date: March 23, 2023"
   ]
  },
  {
   "cell_type": "markdown",
   "id": "2f60c966",
   "metadata": {},
   "source": [
    "## Part 1:\n",
    "### Question 1: \n",
    "Define the data, uncontrollable inputs, model parameters, and the decision variables that influence the total inventory cost."
   ]
  },
  {
   "cell_type": "code",
   "execution_count": 8,
   "id": "3876ce27",
   "metadata": {},
   "outputs": [
    {
     "name": "stdout",
     "output_type": "stream",
     "text": [
      "677.00320038633\n",
      "338.501600193165\n",
      "319.05314461843045\n",
      "364.5401848234085\n"
     ]
    }
   ],
   "source": [
    "# calculations:\n",
    "\n",
    "#Annual demand = (D)\n",
    "#Ordering cost = (S)\n",
    "\n",
    "#Carrying/Holding cost per unit = (H)\n",
    "D = 15000\n",
    "S =220\n",
    "H =14.4\n",
    "\n",
    "#order quantity = EQQ\n",
    "import math\n",
    "EQQ = math.sqrt((2*D*S)/H)   #a=EQQ\n",
    "print (EQQ)\n",
    "\n",
    "Q = EQQ/2\n",
    "print (Q)\n",
    "\n",
    "#annual ordering cost\n",
    "print ((D/EQQ)*14.40)\n",
    "\n",
    "#Annual holding cost:\n",
    "#average inventory level: Q/2 + L\n",
    "\n",
    "print ((EQQ/2) + (2*EQQ/52))"
   ]
  },
  {
   "cell_type": "code",
   "execution_count": 17,
   "id": "4ffe2a05",
   "metadata": {},
   "outputs": [
    {
     "data": {
      "text/html": [
       "<div>\n",
       "<style scoped>\n",
       "    .dataframe tbody tr th:only-of-type {\n",
       "        vertical-align: middle;\n",
       "    }\n",
       "\n",
       "    .dataframe tbody tr th {\n",
       "        vertical-align: top;\n",
       "    }\n",
       "\n",
       "    .dataframe thead th {\n",
       "        text-align: right;\n",
       "    }\n",
       "</style>\n",
       "<table border=\"1\" class=\"dataframe\">\n",
       "  <thead>\n",
       "    <tr style=\"text-align: right;\">\n",
       "      <th></th>\n",
       "      <th>Data</th>\n",
       "      <th>Value</th>\n",
       "      <th>Type</th>\n",
       "    </tr>\n",
       "  </thead>\n",
       "  <tbody>\n",
       "    <tr>\n",
       "      <th>0</th>\n",
       "      <td>Annual demand (D)</td>\n",
       "      <td>15000.000000</td>\n",
       "      <td>Uncontrollable</td>\n",
       "    </tr>\n",
       "    <tr>\n",
       "      <th>1</th>\n",
       "      <td>Cost per unit</td>\n",
       "      <td>80.000000</td>\n",
       "      <td>Parameter</td>\n",
       "    </tr>\n",
       "    <tr>\n",
       "      <th>2</th>\n",
       "      <td>Ordering cost (S)</td>\n",
       "      <td>220.000000</td>\n",
       "      <td>Parameter</td>\n",
       "    </tr>\n",
       "    <tr>\n",
       "      <th>3</th>\n",
       "      <td>Holding cost</td>\n",
       "      <td>18.000000</td>\n",
       "      <td>Parameter</td>\n",
       "    </tr>\n",
       "    <tr>\n",
       "      <th>4</th>\n",
       "      <td>Carrying/Holding cost per unit (H)</td>\n",
       "      <td>14.400000</td>\n",
       "      <td>Parameter</td>\n",
       "    </tr>\n",
       "    <tr>\n",
       "      <th>5</th>\n",
       "      <td>Total Annual Cost</td>\n",
       "      <td>364.540185</td>\n",
       "      <td>Decision Variable</td>\n",
       "    </tr>\n",
       "    <tr>\n",
       "      <th>6</th>\n",
       "      <td>EOQ (order quantity)</td>\n",
       "      <td>677.003200</td>\n",
       "      <td>Decision Variable</td>\n",
       "    </tr>\n",
       "    <tr>\n",
       "      <th>7</th>\n",
       "      <td>Q* (optimal cutoff point to order units)</td>\n",
       "      <td>338.501600</td>\n",
       "      <td>Decision Variable</td>\n",
       "    </tr>\n",
       "  </tbody>\n",
       "</table>\n",
       "</div>"
      ],
      "text/plain": [
       "                                       Data         Value               Type\n",
       "0                         Annual demand (D)  15000.000000     Uncontrollable\n",
       "1                             Cost per unit     80.000000          Parameter\n",
       "2                         Ordering cost (S)    220.000000          Parameter\n",
       "3                              Holding cost     18.000000          Parameter\n",
       "4        Carrying/Holding cost per unit (H)     14.400000          Parameter\n",
       "5                        Total Annual Cost     364.540185  Decision Variable\n",
       "6                      EOQ (order quantity)    677.003200  Decision Variable\n",
       "7  Q* (optimal cutoff point to order units)    338.501600  Decision Variable"
      ]
     },
     "execution_count": 17,
     "metadata": {},
     "output_type": "execute_result"
    }
   ],
   "source": [
    "# Create table for Q1\n",
    "\n",
    "import pandas as pd\n",
    "\n",
    "# create data as a list of dictionaries\n",
    "Table1 = pd.DataFrame({'Data': [\" Annual demand (D)\",      \n",
    "\"Cost per unit\",      \n",
    "\"Ordering cost (S)\",        \n",
    "\"Holding cost\",       \n",
    "\"Carrying/Holding cost per unit (H)\",   \n",
    "\"Total Annual Cost \",\n",
    "\"EOQ (order quantity)\",\n",
    "\"Q* (optimal cutoff point to order units)\"]  , \n",
    "'Value' : [15000,\n",
    "80,\n",
    "220 ,\n",
    "18,\n",
    "14.40,\n",
    "364.540185,\n",
    "677.003200,\n",
    "338.501600] , \n",
    "'Type':[\"Uncontrollable\",\n",
    "\"Parameter\",\n",
    "\"Parameter\" ,\n",
    "\"Parameter\",\n",
    "\"Parameter\",\n",
    "\"Decision Variable\",\n",
    "\"Decision Variable\",\n",
    "\"Decision Variable\"]})\n",
    "\n",
    "Table1\n"
   ]
  },
  {
   "cell_type": "markdown",
   "id": "a9361d5c",
   "metadata": {},
   "source": [
    "### Question 2: \n",
    "Develop mathematical functions that compute the annual ordering cost and annual holding cost based on average inventory held throughout the year and use them to develop a mathematical model for the total inventory cost."
   ]
  },
  {
   "cell_type": "code",
   "execution_count": 18,
   "id": "b19312f3",
   "metadata": {},
   "outputs": [
    {
     "data": {
      "text/html": [
       "<div>\n",
       "<style scoped>\n",
       "    .dataframe tbody tr th:only-of-type {\n",
       "        vertical-align: middle;\n",
       "    }\n",
       "\n",
       "    .dataframe tbody tr th {\n",
       "        vertical-align: top;\n",
       "    }\n",
       "\n",
       "    .dataframe thead th {\n",
       "        text-align: right;\n",
       "    }\n",
       "</style>\n",
       "<table border=\"1\" class=\"dataframe\">\n",
       "  <thead>\n",
       "    <tr style=\"text-align: right;\">\n",
       "      <th></th>\n",
       "      <th>Annual Ordering Cost</th>\n",
       "      <th>Annual holding cost</th>\n",
       "      <th>Total Inventory Cost</th>\n",
       "    </tr>\n",
       "  </thead>\n",
       "  <tbody>\n",
       "    <tr>\n",
       "      <th>0</th>\n",
       "      <td>4874.423046</td>\n",
       "      <td>4874.42304</td>\n",
       "      <td>9748</td>\n",
       "    </tr>\n",
       "  </tbody>\n",
       "</table>\n",
       "</div>"
      ],
      "text/plain": [
       "   Annual Ordering Cost  Annual holding cost  Total Inventory Cost\n",
       "0           4874.423046           4874.42304                  9748"
      ]
     },
     "execution_count": 18,
     "metadata": {},
     "output_type": "execute_result"
    }
   ],
   "source": [
    "# Create table for Q2\n",
    "\n",
    "# create data as a list of dictionaries\n",
    "Table2 = pd.DataFrame({'Annual Ordering Cost': [4874.423046]  , \n",
    "'Annual holding cost' : [4874.42304] , \n",
    "                       \n",
    "'Total Inventory Cost':[9748]})\n",
    "\n",
    "Table2"
   ]
  },
  {
   "cell_type": "markdown",
   "id": "ecc6e3f6",
   "metadata": {},
   "source": [
    "### Question 4:\n",
    "Use data tables to find an approximate order quantity that results in the smallest total cost."
   ]
  },
  {
   "cell_type": "code",
   "execution_count": 80,
   "id": "b528d9f1",
   "metadata": {},
   "outputs": [
    {
     "data": {
      "text/html": [
       "<div>\n",
       "<style scoped>\n",
       "    .dataframe tbody tr th:only-of-type {\n",
       "        vertical-align: middle;\n",
       "    }\n",
       "\n",
       "    .dataframe tbody tr th {\n",
       "        vertical-align: top;\n",
       "    }\n",
       "\n",
       "    .dataframe thead th {\n",
       "        text-align: right;\n",
       "    }\n",
       "</style>\n",
       "<table border=\"1\" class=\"dataframe\">\n",
       "  <thead>\n",
       "    <tr style=\"text-align: right;\">\n",
       "      <th></th>\n",
       "      <th>Order Quantity</th>\n",
       "      <th>Total Cost</th>\n",
       "    </tr>\n",
       "  </thead>\n",
       "  <tbody>\n",
       "    <tr>\n",
       "      <th>0</th>\n",
       "      <td>800</td>\n",
       "      <td>9885.00</td>\n",
       "    </tr>\n",
       "    <tr>\n",
       "      <th>1</th>\n",
       "      <td>801</td>\n",
       "      <td>9887.05</td>\n",
       "    </tr>\n",
       "    <tr>\n",
       "      <th>2</th>\n",
       "      <td>802</td>\n",
       "      <td>9889.11</td>\n",
       "    </tr>\n",
       "    <tr>\n",
       "      <th>3</th>\n",
       "      <td>803</td>\n",
       "      <td>9891.19</td>\n",
       "    </tr>\n",
       "    <tr>\n",
       "      <th>4</th>\n",
       "      <td>804</td>\n",
       "      <td>9893.28</td>\n",
       "    </tr>\n",
       "    <tr>\n",
       "      <th>5</th>\n",
       "      <td>805</td>\n",
       "      <td>9895.38</td>\n",
       "    </tr>\n",
       "    <tr>\n",
       "      <th>6</th>\n",
       "      <td>806</td>\n",
       "      <td>9897.49</td>\n",
       "    </tr>\n",
       "    <tr>\n",
       "      <th>7</th>\n",
       "      <td>807</td>\n",
       "      <td>9899.62</td>\n",
       "    </tr>\n",
       "    <tr>\n",
       "      <th>8</th>\n",
       "      <td>808</td>\n",
       "      <td>9901.76</td>\n",
       "    </tr>\n",
       "    <tr>\n",
       "      <th>9</th>\n",
       "      <td>809</td>\n",
       "      <td>9903.91</td>\n",
       "    </tr>\n",
       "    <tr>\n",
       "      <th>10</th>\n",
       "      <td>810</td>\n",
       "      <td>9906.07</td>\n",
       "    </tr>\n",
       "    <tr>\n",
       "      <th>11</th>\n",
       "      <td>811</td>\n",
       "      <td>9908.25</td>\n",
       "    </tr>\n",
       "    <tr>\n",
       "      <th>12</th>\n",
       "      <td>812</td>\n",
       "      <td>9910.44</td>\n",
       "    </tr>\n",
       "    <tr>\n",
       "      <th>13</th>\n",
       "      <td>813</td>\n",
       "      <td>9912.64</td>\n",
       "    </tr>\n",
       "    <tr>\n",
       "      <th>14</th>\n",
       "      <td>814</td>\n",
       "      <td>9914.85</td>\n",
       "    </tr>\n",
       "    <tr>\n",
       "      <th>15</th>\n",
       "      <td>815</td>\n",
       "      <td>9917.08</td>\n",
       "    </tr>\n",
       "    <tr>\n",
       "      <th>16</th>\n",
       "      <td>816</td>\n",
       "      <td>9919.32</td>\n",
       "    </tr>\n",
       "    <tr>\n",
       "      <th>17</th>\n",
       "      <td>817</td>\n",
       "      <td>9921.57</td>\n",
       "    </tr>\n",
       "    <tr>\n",
       "      <th>18</th>\n",
       "      <td>818</td>\n",
       "      <td>9923.83</td>\n",
       "    </tr>\n",
       "    <tr>\n",
       "      <th>19</th>\n",
       "      <td>819</td>\n",
       "      <td>9926.10</td>\n",
       "    </tr>\n",
       "    <tr>\n",
       "      <th>20</th>\n",
       "      <td>820</td>\n",
       "      <td>9928.39</td>\n",
       "    </tr>\n",
       "  </tbody>\n",
       "</table>\n",
       "</div>"
      ],
      "text/plain": [
       "    Order Quantity  Total Cost\n",
       "0              800     9885.00\n",
       "1              801     9887.05\n",
       "2              802     9889.11\n",
       "3              803     9891.19\n",
       "4              804     9893.28\n",
       "5              805     9895.38\n",
       "6              806     9897.49\n",
       "7              807     9899.62\n",
       "8              808     9901.76\n",
       "9              809     9903.91\n",
       "10             810     9906.07\n",
       "11             811     9908.25\n",
       "12             812     9910.44\n",
       "13             813     9912.64\n",
       "14             814     9914.85\n",
       "15             815     9917.08\n",
       "16             816     9919.32\n",
       "17             817     9921.57\n",
       "18             818     9923.83\n",
       "19             819     9926.10\n",
       "20             820     9928.39"
      ]
     },
     "execution_count": 80,
     "metadata": {},
     "output_type": "execute_result"
    }
   ],
   "source": [
    "import pandas as pd\n",
    "import numpy as np\n",
    "\n",
    "# Define a function to calculate the total cost\n",
    "def total_cost(order_quantity):\n",
    "    unit_cost = 80\n",
    "    annual_demand = 15000\n",
    "    ordering_cost = 220\n",
    "    holding_cost = 18/100 * unit_cost\n",
    "    annual_ordering_cost = round((annual_demand / order_quantity) * ordering_cost, 2)\n",
    "    annual_holding_cost = round((order_quantity / 2) * holding_cost, 2)\n",
    "    total_cost = annual_ordering_cost + annual_holding_cost\n",
    "    return total_cost\n",
    "\n",
    "# Run the code and store the output in a list\n",
    "output_list = []\n",
    "for i in range(800, 821):\n",
    "    order_quantity = i\n",
    "    total_cost_value = total_cost(order_quantity)\n",
    "    output_list.append([order_quantity, total_cost_value])\n",
    "\n",
    "# Create a DataFrame from the output list\n",
    "Table3 = pd.DataFrame(output_list, columns=[\"Order Quantity\", \"Total Cost\"])\n",
    "Table3\n"
   ]
  },
  {
   "cell_type": "markdown",
   "id": "ebb6afc5",
   "metadata": {},
   "source": [
    "### Question 5:\n",
    "Plot the Total Cost versus the Order Quantity"
   ]
  },
  {
   "cell_type": "code",
   "execution_count": 95,
   "id": "3dd7480d",
   "metadata": {},
   "outputs": [
    {
     "data": {
      "image/png": "[encoded data removed]",
      "text/plain": [
       "<Figure size 432x288 with 1 Axes>"
      ]
     },
     "metadata": {
      "needs_background": "light"
     },
     "output_type": "display_data"
    }
   ],
   "source": [
    "import pandas as pd\n",
    "import matplotlib.pyplot as plt\n",
    "\n",
    "# Define a function to calculate the total cost\n",
    "def total_cost(order_quantity):\n",
    "    annual_ordering_cost = round((15000 / order_quantity) * 220, 2)\n",
    "    annual_holding_cost = round((order_quantity / 2) * 14.4, 2)\n",
    "    total_cost = annual_ordering_cost + annual_holding_cost\n",
    "    return total_cost\n",
    "\n",
    "# Find the order quantity that results in the smallest total cost\n",
    "min_total_cost = float('inf')\n",
    "best_order_quantity = None\n",
    "for order_quantity in range(1, 15001):\n",
    "    cost = total_cost(order_quantity)\n",
    "    if cost < min_total_cost:\n",
    "        min_total_cost = cost\n",
    "        best_order_quantity = order_quantity\n",
    "\n",
    "# Set the range of order quantities for the plot\n",
    "order_quantities = range(best_order_quantity - 200, best_order_quantity + 201)\n",
    "\n",
    "# Create a DataFrame with the order quantities and total costs\n",
    "total_costs = [total_cost(x) for x in order_quantities]\n",
    "data = {'Order Quantity': order_quantities, 'Total Cost': total_costs}\n",
    "Table3 = pd.DataFrame(data)\n",
    "\n",
    "# Create a plot of total cost vs. order quantity\n",
    "plt.plot(Table3['Order Quantity'], Table3['Total Cost'], marker='o')\n",
    "plt.xlabel('Order Quantity')\n",
    "plt.ylabel('Total Cost')\n",
    "plt.title('Total Cost vs. Order Quantity')\n",
    "plt.show()\n"
   ]
  },
  {
   "cell_type": "markdown",
   "id": "bc45323f",
   "metadata": {},
   "source": [
    "## Part 2\n",
    "Assume that all problem parameters have the same values as those in part I, but that the annual demand\n",
    "has a triangular probability distribution between 13000 and 17000 units with a mode of 15000 units.\n",
    "\n",
    "1. Perform a simulation consisting of 1000 occurrences and calculate the minimum total cost for each occurrence. Next, use the results of your simulation to:\n",
    "\n",
    "### (i)\n",
    "Estimate the expected minimum total cost by constructing a 95% confidence interval for\n",
    "it and determine the probability distribution that best fits its distribution. Verify the\n",
    "validity of your choice."
   ]
  },
  {
   "cell_type": "code",
   "execution_count": 105,
   "id": "683cd21f",
   "metadata": {},
   "outputs": [
    {
     "name": "stdout",
     "output_type": "stream",
     "text": [
      "Expected minimum total cost: 8711.59\n",
      "95% confidence interval: (8696.88, 8726.30)\n",
      "Sample Standard Deviation:  237.31957274692581\n"
     ]
    }
   ],
   "source": [
    "# get the SD of minimum cost and Sample mean by constructing a 95% confidence interval.\n",
    "import numpy as np\n",
    "\n",
    "# Define a function to compute the optimal order quantity\n",
    "def compute_optimal_order_quantity(demand, holding_cost, ordering_cost):\n",
    "    EOQ = np.sqrt((2 * demand * ordering_cost) / holding_cost)\n",
    "    return EOQ\n",
    "\n",
    "# Define a function to compute the total cost\n",
    "def compute_total_cost(demand, order_quantity, holding_cost, ordering_cost):\n",
    "    setup_cost = (demand / order_quantity) * ordering_cost\n",
    "    holding_cost = (order_quantity / 2) * holding_cost\n",
    "    total_cost = setup_cost + holding_cost\n",
    "    return total_cost\n",
    "\n",
    "# Define the problem parameters\n",
    "demand_mode = 15000\n",
    "demand_min = 13000\n",
    "demand_max = 17000\n",
    "holding_cost = 0.144 * 80\n",
    "ordering_cost = 220\n",
    "\n",
    "# Perform the simulation\n",
    "min_costs = np.zeros(1000)\n",
    "for i in range(1000):\n",
    "    demand = np.random.triangular(demand_min, demand_mode, demand_max)\n",
    "    order_quantity = compute_optimal_order_quantity(demand, holding_cost, ordering_cost)\n",
    "    min_cost = compute_total_cost(demand, order_quantity, holding_cost, ordering_cost)\n",
    "    min_costs[i] = min_cost\n",
    "\n",
    "# Calculate the expected minimum total cost and the 95% confidence interval\n",
    "mean_min_cost = np.mean(min_costs)\n",
    "std_min_cost = np.std(min_costs, ddof=1)\n",
    "n = len(min_costs)\n",
    "z_critical = 1.96  # for 95% confidence interval\n",
    "margin_of_error = z_critical * std_min_cost / np.sqrt(n)\n",
    "lower_bound = mean_min_cost - margin_of_error\n",
    "upper_bound = mean_min_cost + margin_of_error\n",
    "\n",
    "# Print the results\n",
    "print(f\"Expected minimum total cost: {mean_min_cost:.2f}\")\n",
    "print(f\"95% confidence interval: ({lower_bound:.2f}, {upper_bound:.2f})\")\n",
    "\n",
    "\n",
    "\n",
    "# Assuming 'min_costs' is the array of minimum cost values obtained from the simulation\n",
    "sample_std = np.std(min_costs, ddof=1)\n",
    "\n",
    "print(\"Sample Standard Deviation: \", sample_std)\n"
   ]
  },
  {
   "cell_type": "code",
   "execution_count": 110,
   "id": "7cba2798",
   "metadata": {},
   "outputs": [
    {
     "data": {
      "image/png": "[encoded data removed]",
      "text/plain": [
       "<Figure size 432x288 with 1 Axes>"
      ]
     },
     "metadata": {
      "needs_background": "light"
     },
     "output_type": "display_data"
    }
   ],
   "source": [
    "# to determine the probability distribution that best fits the distribution of minimum cost values, \n",
    "# we can use the histogram and probability density function (PDF) plot\n",
    "\n",
    "import matplotlib.pyplot as plt\n",
    "from scipy.stats import norm\n",
    "\n",
    "# Histogram\n",
    "plt.hist(min_costs, bins=20, density=True, alpha=0.5)\n",
    "\n",
    "# PDF plot\n",
    "xmin, xmax = plt.xlim()\n",
    "x = np.linspace(xmin, xmax, 100)\n",
    "p = norm.pdf(x, mean_min_cost, std_min_cost)\n",
    "plt.plot(x, p, 'k', linewidth=2)\n",
    "\n",
    "plt.xlabel('Minimum Total Cost')\n",
    "plt.ylabel('Probability Density')\n",
    "plt.title('Distribution of Minimum Total Cost')\n",
    "plt.legend(['Normal Distribution', 'Simulated Data'])\n",
    "plt.show()\n",
    "\n",
    "\n"
   ]
  },
  {
   "cell_type": "code",
   "execution_count": 124,
   "id": "934eef42",
   "metadata": {},
   "outputs": [
    {
     "name": "stdout",
     "output_type": "stream",
     "text": [
      "The p-value (0.2850) is greater than alpha (0.05), so we fail to reject the null hypothesis.\n",
      "The distribution of the minimum cost values appears to be approximately normal.\n",
      "chi-squared = 1309.9074, df = 997\n"
     ]
    }
   ],
   "source": [
    "# The Shapiro-Wilk test:\n",
    "\n",
    "# (H0) is that the minimum cost values obtained from the simulation follow a normal distribution.\n",
    "# (H1) is that the minimum cost values obtained from the simulation do not follow a normal distribution.\n",
    "\n",
    "import numpy as np\n",
    "from scipy.stats import kstest, norm\n",
    "\n",
    "# Load the minimum cost values obtained from the simulation\n",
    "minimum_costs = np.array(min_costs)\n",
    "\n",
    "# Fit a normal distribution to the minimum cost values\n",
    "mu, std = norm.fit(minimum_costs)\n",
    "\n",
    "# Perform the Kolmogorov-Smirnov test\n",
    "ks_stat, p_value = kstest(minimum_costs, 'norm', args=(mu, std))\n",
    "\n",
    "# Set the significance level\n",
    "alpha = 0.05\n",
    "\n",
    "# Calculate the chi-squared value and degrees of freedom\n",
    "n = len(minimum_costs)\n",
    "expected_cdf = norm.cdf(minimum_costs, mu, std)\n",
    "observed_cdf = np.arange(1, n+1) / n\n",
    "chi_sq = np.sum((observed_cdf - expected_cdf)**2 / expected_cdf)\n",
    "df = n - 3  # degrees of freedom: k - 1 - p, where k = number of bins = 1, p = number of parameters estimated = 2\n",
    "\n",
    "# Check if the null hypothesis is rejected\n",
    "if p_value < alpha:\n",
    "    print(f\"The p-value ({p_value:.4f}) is less than alpha ({alpha}), so we reject the null hypothesis.\")\n",
    "    print(\"The distribution of the minimum cost values does not appear to be approximately normal.\")\n",
    "else:\n",
    "    print(f\"The p-value ({p_value:.4f}) is greater than alpha ({alpha}), so we fail to reject the null hypothesis.\")\n",
    "    print(\"The distribution of the minimum cost values appears to be approximately normal.\")\n",
    "print(f\"chi-squared = {chi_sq:.4f}, df = {df}\")\n"
   ]
  },
  {
   "cell_type": "markdown",
   "id": "a8b2edb2",
   "metadata": {},
   "source": [
    "### (ii) \n",
    "Estimate the expected order quantity by constructing a 95% confidence interval for it\n",
    "and determine the probability distribution that best fits its distribution. Verify the\n",
    "validity of your choice."
   ]
  },
  {
   "cell_type": "code",
   "execution_count": 150,
   "id": "380ed0f2",
   "metadata": {},
   "outputs": [
    {
     "name": "stdout",
     "output_type": "stream",
     "text": [
      "Expected Order Quantity: 15000.0\n"
     ]
    }
   ],
   "source": [
    "import numpy as np\n",
    "\n",
    "# Problem parameters\n",
    "D = 15000 # Annual demand\n",
    "S = 220 # Ordering cost\n",
    "H = 14.4 # Carrying cost per unit\n",
    "C = 80 # Cost per unit\n",
    "TA = 364.5384615 # Total annual cost\n",
    "\n",
    "# Triangular distribution parameters\n",
    "min_val = 13000\n",
    "max_val = 17000\n",
    "mode = 15000\n",
    "\n",
    "# Define the expected order quantity function\n",
    "def expected_order_quantity(min_val, max_val, mode):\n",
    "    return (min_val + mode + max_val) / 3\n",
    "\n",
    "# Calculate the expected order quantity\n",
    "EOQ = expected_order_quantity(min_val, max_val, mode)\n",
    "print(\"Expected Order Quantity:\", EOQ)\n"
   ]
  },
  {
   "cell_type": "code",
   "execution_count": 151,
   "id": "84ebd632",
   "metadata": {},
   "outputs": [
    {
     "name": "stdout",
     "output_type": "stream",
     "text": [
      "95% Confidence Interval for Expected Order Quantity: (14920.493024902298, 15020.977602647177)\n"
     ]
    },
    {
     "data": {
      "image/png": "[encoded data removed]",
      "text/plain": [
       "<Figure size 432x288 with 1 Axes>"
      ]
     },
     "metadata": {
      "needs_background": "light"
     },
     "output_type": "display_data"
    }
   ],
   "source": [
    "import numpy as np\n",
    "from scipy.stats import triang, t\n",
    "import matplotlib.pyplot as plt\n",
    "\n",
    "# Define the triangular probability distribution\n",
    "a = 13000\n",
    "c = 15000\n",
    "b = 17000\n",
    "dist = triang(c=(c-a)/(b-a), loc=a, scale=b-a)\n",
    "\n",
    "# Generate a random sample of order quantities\n",
    "sample_size = 1000\n",
    "order_quantities = dist.rvs(size=sample_size)\n",
    "\n",
    "# Calculate the sample mean and standard deviation\n",
    "sample_mean = np.mean(order_quantities)\n",
    "sample_std = np.std(order_quantities, ddof=1)\n",
    "\n",
    "# Calculate the standard error\n",
    "n = len(order_quantities)\n",
    "std_error = sample_std / np.sqrt(n)\n",
    "\n",
    "# Determine the degrees of freedom\n",
    "df = n - 1\n",
    "\n",
    "# Calculate the critical value for a 95% confidence level\n",
    "alpha = 0.05\n",
    "t_critical = t.ppf(1 - alpha/2, df)\n",
    "\n",
    "# Calculate the confidence interval\n",
    "conf_interval = (sample_mean - t_critical * std_error, sample_mean + t_critical * std_error)\n",
    "\n",
    "print(\"95% Confidence Interval for Expected Order Quantity:\", conf_interval)\n",
    "\n",
    "# Plot the histogram of the sample order quantities and compare it to the probability distribution\n",
    "plt.hist(order_quantities, bins=20, density=True, alpha=0.5)\n",
    "\n",
    "x = np.linspace(a, b, 100)\n",
    "plt.plot(x, dist.pdf(x), 'k', linewidth=2)\n",
    "\n",
    "plt.xlabel('Order Quantity')\n",
    "plt.ylabel('Probability Density')\n",
    "plt.title('Distribution of Order Quantity')\n",
    "plt.legend(['Triangular Distribution', 'Simulated Data'])\n",
    "plt.show()\n"
   ]
  },
  {
   "cell_type": "code",
   "execution_count": 174,
   "id": "78a2c0a7",
   "metadata": {},
   "outputs": [
    {
     "name": "stdout",
     "output_type": "stream",
     "text": [
      "p-value: 0.7543622410225298\n",
      "The observed distribution does not significantly differ from the triangular distribution.\n"
     ]
    }
   ],
   "source": [
    "#H0: the Order Quantity is the Normal distribution\n",
    "#H1: the Order Quantity is NOT the Normal distribution\n",
    "\n",
    "\n",
    "from scipy.stats import kstest\n",
    "\n",
    "# Define the triangular probability distribution\n",
    "a = 13000\n",
    "c = 15000\n",
    "b = 17000\n",
    "dist = triang(c=(c-a)/(b-a), loc=a, scale=b-a)\n",
    "\n",
    "# Generate a random sample of order quantities\n",
    "sample_size = 1000\n",
    "order_quantities = dist.rvs(size=sample_size)\n",
    "\n",
    "# Perform the Kolmogorov-Smirnov test\n",
    "test_statistic, p_value = kstest(order_quantities, dist.cdf)\n",
    "\n",
    "print(\"p-value:\", p_value)\n",
    "\n",
    "# Print the test result\n",
    "if p_value > 0.05:\n",
    "    print(\"The observed distribution does not significantly differ from the triangular distribution.\")\n",
    "else:\n",
    "    print(\"The observed distribution significantly differs from the triangular distribution.\")\n",
    "    \n"
   ]
  },
  {
   "cell_type": "code",
   "execution_count": 169,
   "id": "293d6ec6",
   "metadata": {},
   "outputs": [
    {
     "name": "stdout",
     "output_type": "stream",
     "text": [
      "AIC for Triangular Distribution: 16242.508136002372\n",
      "BIC for Triangular Distribution: 16252.323646560337\n",
      "AIC for Lognormal Distribution: 21886.24397840671\n",
      "BIC for Lognormal Distribution: 21896.059488964675\n"
     ]
    }
   ],
   "source": [
    "import numpy as np\n",
    "from scipy.stats import triang, lognorm\n",
    "\n",
    "# Generate a random sample of order quantities\n",
    "sample_size = 1000\n",
    "a = 13000\n",
    "c = 15000\n",
    "b = 17000\n",
    "dist = triang(c=(c-a)/(b-a), loc=a, scale=b-a)\n",
    "order_quantities = dist.rvs(size=sample_size)\n",
    "\n",
    "# Fit the order quantities to a triangular distribution\n",
    "triang_params = triang.fit(order_quantities)\n",
    "triang_dist = triang(*triang_params)\n",
    "\n",
    "# Fit the order quantities to a lognormal distribution\n",
    "lognorm_params = lognorm.fit(order_quantities)\n",
    "lognorm_dist = lognorm(*lognorm_params)\n",
    "\n",
    "# Compute the log-likelihood for the two distributions\n",
    "triang_loglikelihood = np.sum(triang_dist.logpdf(order_quantities))\n",
    "lognorm_loglikelihood = np.sum(lognorm_dist.logpdf(order_quantities))\n",
    "\n",
    "# Determine the degrees of freedom for the two distributions\n",
    "triang_df = len(triang_params) - 1\n",
    "lognorm_df = len(lognorm_params) - 1\n",
    "\n",
    "# Calculate the AIC and BIC for the two distributions\n",
    "k = 2  # number of parameters in each distribution\n",
    "triang_aic = -2 * triang_loglikelihood + 2 * k\n",
    "triang_bic = -2 * triang_loglikelihood + k * np.log(sample_size)\n",
    "lognorm_aic = -2 * lognorm_loglikelihood + 2 * k\n",
    "lognorm_bic = -2 * lognorm_loglikelihood + k * np.log(sample_size)\n",
    "\n",
    "print(\"AIC for Triangular Distribution:\", triang_aic)\n",
    "print(\"BIC for Triangular Distribution:\", triang_bic)\n",
    "print(\"AIC for Lognormal Distribution:\", lognorm_aic)\n",
    "print(\"BIC for Lognormal Distribution:\", lognorm_bic)\n"
   ]
  },
  {
   "cell_type": "markdown",
   "id": "bb5f774b",
   "metadata": {},
   "source": [
    "### (iii) \n",
    "Estimate the expected annual number of orders by constructing a 95% confidence interval for it and determine the probability distribution that best fits its distribution. Verify the validity of your choice."
   ]
  },
  {
   "cell_type": "code",
   "execution_count": 180,
   "id": "097e5058",
   "metadata": {},
   "outputs": [
    {
     "data": {
      "image/png": "[encoded data removed]",
      "text/plain": [
       "<Figure size 432x288 with 1 Axes>"
      ]
     },
     "metadata": {
      "needs_background": "light"
     },
     "output_type": "display_data"
    }
   ],
   "source": [
    "from scipy.stats import poisson\n",
    "\n",
    "import numpy as np\n",
    "import matplotlib.pyplot as plt\n",
    "\n",
    "# Compute the expected number of orders per month\n",
    "num_orders_per_month = 15000 / 12\n",
    "\n",
    "# Generate a random sample of order quantities per month\n",
    "sample_size = 1000\n",
    "orders_per_month = np.random.poisson(num_orders_per_month, size=sample_size)\n",
    "\n",
    "# Calculate the total number of orders per year\n",
    "total_orders = orders_per_month * 12\n",
    "\n",
    "# Construct a histogram\n",
    "plt.hist(total_orders, bins=20)\n",
    "plt.title('Histogram of Total Orders per Year')\n",
    "plt.xlabel('Total Orders')\n",
    "plt.ylabel('Frequency')\n",
    "plt.show()\n"
   ]
  },
  {
   "cell_type": "code",
   "execution_count": 181,
   "id": "3ef55390",
   "metadata": {
    "scrolled": true
   },
   "outputs": [
    {
     "name": "stdout",
     "output_type": "stream",
     "text": [
      "Expected annual number of orders: 14986.69\n",
      "95% Confidence interval: (14961.53, 15011.85)\n"
     ]
    }
   ],
   "source": [
    "from scipy import stats\n",
    "\n",
    "# Calculate the mean and standard deviation of the total number of orders\n",
    "mean = np.mean(total_orders)\n",
    "std = np.std(total_orders, ddof=1)\n",
    "\n",
    "# Calculate the 95% confidence interval\n",
    "conf_int = stats.norm.interval(0.95, loc=mean, scale=std/np.sqrt(len(total_orders)))\n",
    "\n",
    "print(f\"Expected annual number of orders: {mean:.2f}\")\n",
    "print(f\"95% Confidence interval: ({conf_int[0]:.2f}, {conf_int[1]:.2f})\")\n"
   ]
  },
  {
   "cell_type": "code",
   "execution_count": 194,
   "id": "ad338360",
   "metadata": {},
   "outputs": [
    {
     "name": "stdout",
     "output_type": "stream",
     "text": [
      "The observed distribution significantly differs from the Poisson distribution.\n"
     ]
    }
   ],
   "source": [
    "from scipy.stats import chisquare\n",
    "\n",
    "# Set the number of bins for the histogram\n",
    "num_bins = 20\n",
    "\n",
    "# Calculate the observed frequencies for each bin\n",
    "observed, bins = np.histogram(total_orders, bins=num_bins)\n",
    "\n",
    "# Calculate the expected frequencies for each bin assuming a Poisson distribution\n",
    "expected = sample_size * np.diff(poisson.cdf(bins, num_orders_per_month * 12))\n",
    "\n",
    "# Perform the chi-square test\n",
    "test_statistic, p_value = chisquare(observed, expected)\n",
    "\n",
    "# Print the test result\n",
    "if p_value > 0.05:\n",
    "    print(\"The observed distribution does not significantly differ from the Poisson distribution.\")\n",
    "else:\n",
    "    print(\"The observed distribution significantly differs from the Poisson distribution.\")\n"
   ]
  }
 ],
 "metadata": {
  "kernelspec": {
   "display_name": "Python 3 (ipykernel)",
   "language": "python",
   "name": "python3"
  },
  "language_info": {
   "codemirror_mode": {
    "name": "ipython",
    "version": 3
   },
   "file_extension": ".py",
   "mimetype": "text/x-python",
   "name": "python",
   "nbconvert_exporter": "python",
   "pygments_lexer": "ipython3",
   "version": "3.9.12"
  }
 },
 "nbformat": 4,
 "nbformat_minor": 5
}
